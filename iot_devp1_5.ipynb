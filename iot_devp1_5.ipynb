{
  "cells": [
    {
      "cell_type": "markdown",
      "metadata": {
        "id": "view-in-github",
        "colab_type": "text"
      },
      "source": [
        "<a href=\"https://colab.research.google.com/github/BruceYoungcct/voice/blob/main/iot_devp1_5.ipynb\" target=\"_parent\"><img src=\"https://colab.research.google.com/assets/colab-badge.svg\" alt=\"Open In Colab\"/></a>"
      ]
    },
    {
      "cell_type": "markdown",
      "metadata": {
        "id": "7ZGE7lQXPcd8"
      },
      "source": [
        "<h3>IoT開発実習（５）</h3>"
      ]
    },
    {
      "cell_type": "markdown",
      "metadata": {
        "id": "woiI9GJGPcd-"
      },
      "source": [
        "Amazon EC2の環境でMQTT メッセージを送受信する"
      ]
    },
    {
      "cell_type": "markdown",
      "metadata": {
        "id": "J1cSBoy2Pcd_"
      },
      "source": [
        "<h3>一、Git、Node.js をインストールして、AWS CLI を設定する</h3>"
      ]
    },
    {
      "cell_type": "markdown",
      "metadata": {
        "id": "sDTaxYAePceA"
      },
      "source": [
        "（１）Git をインストールする\n"
      ]
    },
    {
      "cell_type": "markdown",
      "metadata": {
        "id": "K7slEGGxPceB"
      },
      "source": [
        "Amazon EC2 Instance Connect ウィンドウで、次のコマンドを使用してインスタンスを更新する。"
      ]
    },
    {
      "cell_type": "code",
      "execution_count": null,
      "metadata": {
        "vscode": {
          "languageId": "plaintext"
        },
        "id": "T4dhOlcDPceB"
      },
      "outputs": [],
      "source": [
        "sudo yum update -y"
      ]
    },
    {
      "cell_type": "markdown",
      "metadata": {
        "id": "X4jJk2IfPceD"
      },
      "source": [
        "Amazon EC2 Instance Connectウィンドウで、次のコマンドを使用して Git をインストールする。\n"
      ]
    },
    {
      "cell_type": "code",
      "execution_count": null,
      "metadata": {
        "vscode": {
          "languageId": "plaintext"
        },
        "id": "DipKLeH7PceD"
      },
      "outputs": [],
      "source": [
        "sudo yum install git -y"
      ]
    },
    {
      "cell_type": "markdown",
      "metadata": {
        "id": "Fjlb8-wHPceE"
      },
      "source": [
        "Gitのインストールを確認する"
      ]
    },
    {
      "cell_type": "code",
      "execution_count": null,
      "metadata": {
        "vscode": {
          "languageId": "plaintext"
        },
        "id": "bA1_kgamPceF"
      },
      "outputs": [],
      "source": [
        "git --version"
      ]
    },
    {
      "cell_type": "markdown",
      "metadata": {
        "id": "yrw-Wpa8PceH"
      },
      "source": [
        "     <補足：>\n",
        "     yumは「Yellowdog Updater Modified」、 apt-getのaptは「Advanced Package Tool」\n",
        "     両者の違いはディストリビューションの違いこと\n",
        "     yum は RedHat系のOSで使用します。EC2のLinux環境はRedHat系のOS\n",
        "     apt-get は DebianやUbuntuのOSで使用"
      ]
    },
    {
      "cell_type": "markdown",
      "metadata": {
        "id": "ITf-KQePPceI"
      },
      "source": [
        "（２）Node.js をインストールする"
      ]
    },
    {
      "cell_type": "markdown",
      "metadata": {
        "id": "I8adwBn7PceJ"
      },
      "source": [
        "Amazon EC2 Instance Connect ウィンドウで、次のコマンドを使用してノードバージョンマネージャー (Node Version Manager , 略称nvm) をインストールする。"
      ]
    },
    {
      "cell_type": "code",
      "execution_count": null,
      "metadata": {
        "vscode": {
          "languageId": "plaintext"
        },
        "id": "63ZSiF_7PceJ"
      },
      "outputs": [],
      "source": [
        "curl -o- https://raw.githubusercontent.com/nvm-sh/nvm/v0.34.0/install.sh | bash"
      ]
    },
    {
      "cell_type": "markdown",
      "metadata": {
        "id": "qp5euzdUPceK"
      },
      "source": [
        "    <解説> \n",
        "    nvmを使うとひとつのシステム内に 複数のバージョンの Node.js をインストールしておき、必要に応じてバージョンを切り替えて使えるようになる。現在利用しているNode.jｓのバージョンを確認するには、コマンド” nvm current ”を使用する。"
      ]
    },
    {
      "cell_type": "markdown",
      "metadata": {
        "id": "Bjw-FWWyPceK"
      },
      "source": [
        "Amazon EC2 Instance Connect ウィンドウで、このコマンドを使用して nvm を有効にする。"
      ]
    },
    {
      "cell_type": "code",
      "execution_count": null,
      "metadata": {
        "vscode": {
          "languageId": "plaintext"
        },
        "id": "fbInzAPsPceL"
      },
      "outputs": [],
      "source": [
        ". ~/.nvm/nvm.sh"
      ]
    },
    {
      "cell_type": "markdown",
      "metadata": {
        "id": "dfLEM80IPceL"
      },
      "source": [
        "Amazon EC2 Instance Connect ウィンドウで、このコマンドを使用して、nvm を使用し、最新バージョンの Node.js をインストールする。"
      ]
    },
    {
      "cell_type": "code",
      "execution_count": null,
      "metadata": {
        "vscode": {
          "languageId": "plaintext"
        },
        "id": "fJrrMy0_PceL"
      },
      "outputs": [],
      "source": [
        "nvm install --lts"
      ]
    },
    {
      "cell_type": "markdown",
      "metadata": {
        "id": "HQAU0kbiPceM"
      },
      "source": [
        "Node.js がインストールされ、正しく実行されていることをテストする"
      ]
    },
    {
      "cell_type": "code",
      "execution_count": null,
      "metadata": {
        "vscode": {
          "languageId": "plaintext"
        },
        "id": "_YHX5r-gPceM"
      },
      "outputs": [],
      "source": [
        "node -e \"console.log('Running Node.js ' + process.version)\""
      ]
    },
    {
      "cell_type": "markdown",
      "metadata": {
        "id": "2b6cgrozPceM"
      },
      "source": [
        "（３）AWS environment variables（AWS環境変数）をセットアップする"
      ]
    },
    {
      "cell_type": "markdown",
      "metadata": {
        "id": "q5YYnWbaPceN"
      },
      "source": [
        "![image.png](attachment:image.png)"
      ]
    },
    {
      "cell_type": "markdown",
      "metadata": {
        "id": "-8pVp-X5PceN"
      },
      "source": [
        "（４）AWS CLI （AWS Command Line Interface）を設定する"
      ]
    },
    {
      "cell_type": "markdown",
      "metadata": {
        "id": "RHCJkydbPceN"
      },
      "source": [
        "Amazon EC2 Instance Connect ウィンドウで、次のコマンドを入力する。"
      ]
    },
    {
      "cell_type": "code",
      "execution_count": null,
      "metadata": {
        "vscode": {
          "languageId": "plaintext"
        },
        "id": "seRFBxT_PceN"
      },
      "outputs": [],
      "source": [
        "aws configure"
      ]
    },
    {
      "cell_type": "markdown",
      "metadata": {
        "id": "8h_L1vm7PceO"
      },
      "source": [
        "    <解説> 　\n",
        "    aws configureは、AWS Command Line Interface（CLI）を使用してAWSアカウントの認証情報を設定するためのコマンドである。\n",
        "    このコマンドを使用することで、AWS CLIを介してAWSサービスにアクセスするためのアクセスキー、シークレットアクセスキー、デフォルトのリージョン、および出力形式を設定することができる。"
      ]
    },
    {
      "cell_type": "code",
      "execution_count": null,
      "metadata": {
        "vscode": {
          "languageId": "plaintext"
        },
        "id": "ukVFTUCbPceO"
      },
      "outputs": [],
      "source": [
        "AWS Access Key ID [None]: “AWS Access Key ID”\n",
        "Secret Access Key [None]: “AWS Secret Access Key”\n",
        "Default region name [None]: ap-northeast-1\n",
        "Default output format [None]: json"
      ]
    },
    {
      "cell_type": "markdown",
      "metadata": {
        "id": "NzG2Qb6KPceO"
      },
      "source": [
        "次のコマンドを使用して、AWS CLI の設定をテストし、エンドポイントが表示されたら、AWS CLIの設定が完了"
      ]
    },
    {
      "cell_type": "code",
      "execution_count": null,
      "metadata": {
        "vscode": {
          "languageId": "plaintext"
        },
        "id": "dsgqP_vWPceO"
      },
      "outputs": [],
      "source": [
        "aws iot describe-endpoint --endpoint-type iot:Data-ATS"
      ]
    },
    {
      "cell_type": "markdown",
      "metadata": {
        "id": "AnT5fJRpPceO"
      },
      "source": [
        "    <補足>AWS IoT Coreのエンドポイント\n",
        "\n",
        "    ①AWS IoT Core - コントロールプレーンエンドポイント\n",
        "    AWS IoT Coreサービスへの管理操作やコントロールに使用されるエンドポイント"
      ]
    },
    {
      "cell_type": "code",
      "execution_count": null,
      "metadata": {
        "vscode": {
          "languageId": "plaintext"
        },
        "id": "-rrWJ1tPPceS"
      },
      "outputs": [],
      "source": [
        "構造：<prefix>.iot.<region>.amazonaws.com"
      ]
    },
    {
      "cell_type": "markdown",
      "metadata": {
        "id": "JAJtw4TQPceT"
      },
      "source": [
        "    ・<prefix>：AWSアカウントごとに一意の識別子で、固有のエンドポイントという。一般的にはxxxxxxxxxxxxのようなランダムな文字列\n",
        "    ・このエンドポイントを使用して、AWS IoT Coreサービスに対してデバイスの登録、ルールの設定、トピックの管理などの操作を行うことができる。\n",
        "\n",
        "    ②AWS IoT Core – データプレーンエンドポイント</br>\n",
        "    デバイスからのデータ送信やAWS IoT Coreからのデータ受信に使用されるエンドポイント</br>\n"
      ]
    },
    {
      "cell_type": "code",
      "execution_count": null,
      "metadata": {
        "vscode": {
          "languageId": "plaintext"
        },
        "id": "I24drbiSPceT"
      },
      "outputs": [],
      "source": [
        "構造：<account-specific-prefix>.iot.<region>.amazonaws.com</br>"
      ]
    },
    {
      "cell_type": "markdown",
      "metadata": {
        "id": "SCA-aayDPceT"
      },
      "source": [
        "\n",
        "    ・<account-specific-prefix>：AWSのアカウントの固有のエンドポイントにエンドポイントタイプATSを指定する。一般的にはxxxxxxxxxxxx-atsのようなランダムな文字列\n",
        "    ・ATSは、Authenticating Things Serviceの略称、デバイスがデータを送信する際には、ATSプロトコルを使用してデータプレーンエンドポイントに接続し、データの送信や認証を行う。ATSはTLS（Transport Layer Security）プロトコルを使用してデータの暗号化とセキュアな通信を提供する。\n",
        "    ・このエンドポイントを使用して、デバイスからのデータ送信やAWS IoT Coreへのデータ受信を行うことができる。"
      ]
    },
    {
      "cell_type": "markdown",
      "metadata": {
        "id": "vRmS2dqXPceT"
      },
      "source": [
        "    <補足>\n",
        "    ①AWS IoT Core - コントロールプレーンエンドポイントを出力するコマンド"
      ]
    },
    {
      "cell_type": "code",
      "execution_count": null,
      "metadata": {
        "vscode": {
          "languageId": "plaintext"
        },
        "id": "lJp1TVZ7PceU"
      },
      "outputs": [],
      "source": [
        "aws iot describe-endpoint"
      ]
    },
    {
      "cell_type": "markdown",
      "metadata": {
        "id": "aQtXZusePceU"
      },
      "source": [
        "    <補足>\n",
        "    ②AWS IoT Core – データプレーンエンドポイント\n"
      ]
    },
    {
      "cell_type": "code",
      "execution_count": null,
      "metadata": {
        "vscode": {
          "languageId": "plaintext"
        },
        "id": "Gl9CdWMaPceU"
      },
      "outputs": [],
      "source": [
        "aws iot describe-endpoint --endpoint-type iot:Data-ATS"
      ]
    },
    {
      "cell_type": "markdown",
      "metadata": {
        "id": "I1mEoIZoPceU"
      },
      "source": [
        "<h3>二、仮想デバイス用の AWS IoT リソースを作成する</h3>"
      ]
    },
    {
      "cell_type": "markdown",
      "metadata": {
        "id": "LCODkydiPceV"
      },
      "source": [
        "（１）Linux インスタンスで AWS IoT モノのオブジェクトを作成する"
      ]
    },
    {
      "cell_type": "markdown",
      "metadata": {
        "id": "KJQCsjiePceV"
      },
      "source": [
        "Amazon EC2 Instance Connect ウィンドウで、次のコマンドを使用してインスタンスを更新する。"
      ]
    },
    {
      "cell_type": "code",
      "execution_count": null,
      "metadata": {
        "vscode": {
          "languageId": "plaintext"
        },
        "id": "hSGN33RePceV"
      },
      "outputs": [],
      "source": [
        "aws iot create-thing --thing-name \"MyIotThing\""
      ]
    },
    {
      "cell_type": "markdown",
      "metadata": {
        "id": "5mmsREyjPceV"
      },
      "source": [
        "JSON レスポンスは以下のようになる。"
      ]
    },
    {
      "cell_type": "code",
      "execution_count": null,
      "metadata": {
        "vscode": {
          "languageId": "plaintext"
        },
        "id": "ncwC85QfPceV"
      },
      "outputs": [],
      "source": [
        "{\n",
        "    \"thingName\": \"MyIotThing\",\n",
        "    \"thingArn\": \"arn:aws:iot:ap-northeast-1:615570136058:thing/MyIotThing\",\n",
        "    \"thingId\": \"1464ac1e-850d-4543-8f59-5bfe2f3ccc2d\"\n",
        "}\n"
      ]
    },
    {
      "cell_type": "markdown",
      "metadata": {
        "id": "vaZxTwTxPceW"
      },
      "source": [
        "（２）Linux インスタンスで 作成したAWS IoT モノのオブジェクトを確認する</br>\n",
        "（１）で作成したAWS IoTモノのオブジェクトを確認するには、以下の手順：</br>\n",
        "AWS IoT Coreにアクセスし、左側のメニューバーから「管理」→「すべてのデバイス」→「モノ」\n",
        "\n",
        "\n"
      ]
    },
    {
      "cell_type": "markdown",
      "metadata": {
        "id": "WBzNLdRfPceW"
      },
      "source": [
        "![image.png](attachment:image.png)"
      ]
    },
    {
      "cell_type": "markdown",
      "metadata": {
        "id": "qA--Nh_HPceW"
      },
      "source": [
        "（３）Linux インスタンスで AWS IoT キーと証明書を作成する"
      ]
    },
    {
      "cell_type": "markdown",
      "metadata": {
        "id": "mLqulNWsPceX"
      },
      "source": [
        "Amazon EC2 Instance Connectウィンドウで、証明書とキーファイルを保存するディレクトリを作成する。"
      ]
    },
    {
      "cell_type": "code",
      "execution_count": null,
      "metadata": {
        "vscode": {
          "languageId": "latex"
        },
        "id": "w9IRI7f3PceX"
      },
      "outputs": [],
      "source": [
        "mkdir ~/cert"
      ]
    },
    {
      "cell_type": "markdown",
      "metadata": {
        "id": "WURhy7tRPceY"
      },
      "source": [
        "Amazon EC2 Instance Connect ウィンドウで、このコマンドを使用し、Amazon 認証機関 (CA) 証明書のコピーをダウンロードする。"
      ]
    },
    {
      "cell_type": "code",
      "execution_count": null,
      "metadata": {
        "vscode": {
          "languageId": "latex"
        },
        "id": "5BxYSwTxPceY"
      },
      "outputs": [],
      "source": [
        "curl -o ~/certs/Amazon-root-CA-1.pem \\\n",
        "        https://www.amazontrust.com/repository/AmazonRootCA1.pem \n"
      ]
    },
    {
      "cell_type": "markdown",
      "metadata": {
        "id": "6RqQgSE0PceZ"
      },
      "source": [
        "Amazon EC2 Instance Connect ウィンドウで、次のコマンドを実行し、プライベートキー、パブリックキー、および X.509 証明書ファイルを作成する。また、このコマンドは、AWS IoT に証明書を登録して有効化する。"
      ]
    },
    {
      "cell_type": "code",
      "execution_count": null,
      "metadata": {
        "vscode": {
          "languageId": "latex"
        },
        "id": "AB9RlLCpPcea"
      },
      "outputs": [],
      "source": [
        "aws iot create-keys-and-certificate \\\n",
        "    --set-as-active \\\n",
        "    --certificate-pem-outfile \"~/certs/device.pem.crt\" \\\n",
        "    --public-key-outfile \"~/certs/public.pem.key\" \\\n",
        "    --private-key-outfile \"~/certs/private.pem.key\""
      ]
    },
    {
      "cell_type": "markdown",
      "metadata": {
        "id": "XrG2CE_YPcea"
      },
      "source": [
        "    <補足>\n",
        "    キーと証明書の役割\n",
        "\n",
        "    （１）プライベートキー（Private Key）:\n",
        "        デバイスのプライベートキーは、デバイス自体が所有する秘密鍵である。\n",
        "        デバイスがメッセージを暗号化したり、デジタル署名を作成したりする際に使用される。\n",
        "        プライベートキーはデバイス内で安全に保管される必要がある。\n",
        "\n",
        "    （２）パブリックキー（Public Key）:\n",
        "        デバイスのパブリックキーは、デバイスのプライベートキーから生成される公開鍵である。\n",
        "        デバイスがメッセージを暗号化したり、他のデバイスからのメッセージを復号化したりする際に使用される。\n",
        "        パブリックキーは他のデバイスやクラウドサービスに公開される。\n",
        "\n",
        "    （３）X.509証明書ファイル（デバイス証明書）:\n",
        "        X.509証明書は、デバイスの認証に使用されるデジタル証明書である。\n",
        "        証明書にはデバイスのパブリックキーとデバイスの識別情報が含まれている。\n",
        "        デバイスがAWS IoT Coreに接続する際に、証明書を使用してデバイスの正当性を確認する。\n"
      ]
    },
    {
      "cell_type": "markdown",
      "metadata": {
        "id": "QLi5sb5cPcea"
      },
      "source": [
        "（４）証明書を保存する"
      ]
    },
    {
      "cell_type": "markdown",
      "metadata": {
        "id": "JMI8vLAaPceb"
      },
      "source": [
        "レスポンスは次のようになる。"
      ]
    },
    {
      "cell_type": "code",
      "execution_count": null,
      "metadata": {
        "vscode": {
          "languageId": "latex"
        },
        "id": "omnpEhHwPceb"
      },
      "outputs": [],
      "source": [
        "{\n",
        "    \"certificateArn\": \"arn:aws:iot:ap-northeast-1:615570136058:cert/fcff16a7050d0769d9be850e3818b1b4f7ead533610cea6c8a0df5f1e91abb9e\",\n",
        "    \"certificateId\": \"38abdcc7385ae85a8d85539edfd456b667198746883c7700756cb2f650e75197\",\n",
        "    \"certificatePem\": \"-----BEGIN CERTIFICATE-----\\nMIIDWjCCAkKgAwIBAgIVAK9yc4uZNV+jqQHBSJr1ZPRzl31GMA0GCSqGSIb3DQEB\\nCwUAME0xSzBJBgNVBAsM…\n",
        "....."
      ]
    },
    {
      "cell_type": "markdown",
      "metadata": {
        "id": "O390hyI3Pceb"
      },
      "source": [
        "certificateArn を保存し、後続のコマンドで使用できるようにする。"
      ]
    },
    {
      "cell_type": "markdown",
      "metadata": {
        "id": "tLSneCNcPceb"
      },
      "source": [
        "    <補足>\n",
        "    certificateArnは、AWS IoT Coreで使用される証明書のAmazon Resource Name（ARN）である。\n",
        "    AWS IoT Coreでは、デバイスやアプリケーションが使用する証明書にもARNが割り当てられる。   \n",
        "    certificateArnは、特定の証明書を識別するための一意の識別子であり、AWSリソースの管理やアクセス制御などの操作に使用される。\n",
        "    以下のような形式で表される:"
      ]
    },
    {
      "cell_type": "code",
      "execution_count": null,
      "metadata": {
        "vscode": {
          "languageId": "latex"
        },
        "id": "gruXZ22dPceb"
      },
      "outputs": [],
      "source": [
        "arn:aws:iot: <リージョン>:<アカウント番号>:cert/<証明書ID>"
      ]
    }
  ],
  "metadata": {
    "language_info": {
      "name": "python"
    },
    "orig_nbformat": 4,
    "colab": {
      "provenance": [],
      "include_colab_link": true
    }
  },
  "nbformat": 4,
  "nbformat_minor": 0
}